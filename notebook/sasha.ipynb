{
 "cells": [
  {
   "cell_type": "markdown",
   "id": "7f36bb84",
   "metadata": {},
   "source": [
    "Mary has pets: some rabbits and some chicken. Together they\n",
    "have 12 heads and 32 legs.\n",
    "How many rabbits and how many chickens does Mary have??\n",
    "\n",
    "You may click on the numbers and change them! \n",
    "You will get a different problem of the same type"
   ]
  },
  {
   "cell_type": "markdown",
   "id": "26af2cbc-f1dd-430b-b2c1-09750fed432f",
   "metadata": {},
   "source": [
    "Here are the numbers given to us in the problem:\n",
    "Heads= 12, Legs= 32"
   ]
  },
  {
   "cell_type": "code",
   "execution_count": 36,
   "id": "e78ced81",
   "metadata": {},
   "outputs": [],
   "source": [
    "type Heads = Int\n",
    "type Legs = Int\n",
    "type HindLegs = Int\n",
    "\n",
    "-- How many hind legs do Mary’s pets have?\n",
    "\n",
    "hindLegs :: Heads  -> HindLegs\n",
    "hindLegs n  = 2 * n"
   ]
  },
  {
   "cell_type": "code",
   "execution_count": 37,
   "id": "2e2d1a12",
   "metadata": {},
   "outputs": [
    {
     "data": {
      "text/plain": [
       "24"
      ]
     },
     "metadata": {},
     "output_type": "display_data"
    }
   ],
   "source": [
    "hindLegs 12"
   ]
  },
  {
   "cell_type": "code",
   "execution_count": 38,
   "id": "9a0c0f1a",
   "metadata": {},
   "outputs": [
    {
     "ename": "",
     "evalue": "",
     "output_type": "error",
     "traceback": [
      "<interactive>:1:17: error:\n    • Variable not in scope: primes :: [a]\n    • Perhaps you meant ‘IHaskellTH.prim’ (imported from Language.Haskell.TH)"
     ]
    }
   ],
   "source": [
    "takeWhile (<15) primes"
   ]
  },
  {
   "cell_type": "markdown",
   "id": "aaa23b03",
   "metadata": {},
   "source": [
    "![](http://localhost:8888/tree/images/sievePython.PNG)"
   ]
  }
 ],
 "metadata": {
  "kernelspec": {
   "display_name": "Haskell",
   "language": "haskell",
   "name": "haskell"
  },
  "language_info": {
   "codemirror_mode": "ihaskell",
   "file_extension": ".hs",
   "mimetype": "text/x-haskell",
   "name": "haskell",
   "pygments_lexer": "Haskell",
   "version": "8.10.7"
  }
 },
 "nbformat": 4,
 "nbformat_minor": 5
}
