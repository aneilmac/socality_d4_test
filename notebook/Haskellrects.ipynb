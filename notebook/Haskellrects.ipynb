{
 "cells": [
  {
   "cell_type": "markdown",
   "id": "4e969784",
   "metadata": {},
   "source": [
    "# Rectangles\n",
    "\n",
    "In this workbook we are attempting to answer the question:\n",
    "\n",
    "How many rectangles can drawn in an $n \\times m$ grid.\n",
    "\n",
    "We will attempt to solve this problem as a programmer would, and then examine how a mathematician may solve this problem.\n",
    "\n",
    "General question: how do these methods benefit each other?"
   ]
  },
  {
   "cell_type": "markdown",
   "id": "898122f3",
   "metadata": {},
   "source": [
    "## Defining a Rectangle\n",
    "\n",
    "First we define a `Rect` type which is a tuple of 4 `Int`s. Of the form:\n",
    "\n",
    "$\\texttt{Rect}\\left(x, w, y, h\\right)$\n",
    "\n",
    "Where $(x, y)$ is the rectangle's coordinate on the grid, and $(w, h)$ are its width and height respectively. \n"
   ]
  },
  {
   "cell_type": "code",
   "execution_count": 73,
   "id": "7f4ec72f",
   "metadata": {},
   "outputs": [],
   "source": [
    "type Rect = (Int, Int, Int, Int)"
   ]
  },
  {
   "cell_type": "markdown",
   "id": "5d088e0c",
   "metadata": {},
   "source": [
    "If you recall from the `Gattengno` notebook, we can generate lists using the handy abilities given to us by deriving the `Enumeration` typeclass, which `Int` does!\n"
   ]
  },
  {
   "cell_type": "code",
   "execution_count": 74,
   "id": "a026ef0e",
   "metadata": {},
   "outputs": [
    {
     "data": {
      "text/plain": [
       "[1,2,3,4,5,6,7,8,9,10]"
      ]
     },
     "metadata": {},
     "output_type": "display_data"
    }
   ],
   "source": [
    "[1..10]"
   ]
  },
  {
   "cell_type": "markdown",
   "id": "52ebec99",
   "metadata": {},
   "source": [
    "Using `<-` syntax, we can build lists from multiple lists, for example, to generate a tuple where both elements are the same value:"
   ]
  },
  {
   "cell_type": "code",
   "execution_count": 75,
   "id": "bd86b14a",
   "metadata": {},
   "outputs": [
    {
     "data": {
      "text/plain": [
       "[(1,1),(2,2),(3,3),(4,4),(5,5),(6,6),(7,7),(8,8),(9,9),(10,10)]"
      ]
     },
     "metadata": {},
     "output_type": "display_data"
    }
   ],
   "source": [
    "[(i, i) | i <- [1..10]]"
   ]
  },
  {
   "cell_type": "markdown",
   "id": "da75306e",
   "metadata": {},
   "source": [
    "That is, from each element `i` in `[1..10]`, we are generating a new list of elements `(i, i)`.\n",
    "\n",
    "We can extend this further by adding predicates to filter the list for free, this is alternative syntax to `filter`.\n",
    "\n"
   ]
  },
  {
   "cell_type": "code",
   "execution_count": 76,
   "id": "e5bebf43",
   "metadata": {},
   "outputs": [
    {
     "data": {
      "text/plain": [
       "[(2,2),(4,4),(6,6),(8,8),(10,10)]"
      ]
     },
     "metadata": {},
     "output_type": "display_data"
    }
   ],
   "source": [
    "\n",
    "[(i, i) | i <- [1..10], even i]"
   ]
  },
  {
   "cell_type": "markdown",
   "id": "0b3898f5",
   "metadata": {},
   "source": [
    "Finally, we can combine all permutations of two inner lists like so:"
   ]
  },
  {
   "cell_type": "code",
   "execution_count": 77,
   "id": "a1f5b842",
   "metadata": {},
   "outputs": [
    {
     "data": {
      "text/plain": [
       "[(1,1),(1,2),(1,3),(2,1),(2,2),(2,3),(3,1),(3,2),(3,3)]"
      ]
     },
     "metadata": {},
     "output_type": "display_data"
    }
   ],
   "source": [
    "[(i, j) | i <- [1..3], j <- [1..3]]"
   ]
  },
  {
   "cell_type": "markdown",
   "id": "082b1767",
   "metadata": {},
   "source": [
    "Putting these all together, we have enough vocabularly to build a list of all permutations. \n",
    "\n",
    "We can can build a list of all possible $(x, w, y, h)$ combinations, and filter out all rectangles which exceed the boundries of the given grid of size $(\\texttt{cols},\\, \\texttt{rows})$."
   ]
  },
  {
   "cell_type": "code",
   "execution_count": 78,
   "id": "c5f00383",
   "metadata": {},
   "outputs": [
    {
     "data": {
      "text/plain": []
     },
     "metadata": {},
     "output_type": "display_data"
    }
   ],
   "source": [
    "positionPermutations cols rows = [ (x, width, y, height) \n",
    "                                 | height <- [1..rows] -- all heights\n",
    "                                 , y <- [0..rows] -- all y positions\n",
    "                                 , width <- [1..cols] -- all widths\n",
    "                                 , x <- [0..cols] -- all x positions  \n",
    "                                 , x + width <= cols -- filter rectangles: fit board width\n",
    "                                 , y + height <= rows -- filter rectangles: fit board height\n",
    "                                 ]"
   ]
  },
  {
   "cell_type": "markdown",
   "id": "aae3e6ff",
   "metadata": {},
   "source": [
    "Let's see it in action"
   ]
  },
  {
   "cell_type": "code",
   "execution_count": 79,
   "id": "dba60084",
   "metadata": {},
   "outputs": [
    {
     "data": {
      "text/plain": [
       "[(0,1,0,1)]"
      ]
     },
     "metadata": {},
     "output_type": "display_data"
    }
   ],
   "source": [
    "positionPermutations 1 1"
   ]
  },
  {
   "cell_type": "code",
   "execution_count": 80,
   "id": "bfbab1a1",
   "metadata": {},
   "outputs": [
    {
     "data": {
      "text/plain": [
       "[(0,1,0,1),(0,1,1,1),(0,1,0,2)]"
      ]
     },
     "metadata": {},
     "output_type": "display_data"
    }
   ],
   "source": [
    "positionPermutations 1 2"
   ]
  },
  {
   "cell_type": "markdown",
   "id": "ae33424f",
   "metadata": {},
   "source": [
    "So we can now answer such questions as: how many rectangles fit into a $5 \\times 5$ grid."
   ]
  },
  {
   "cell_type": "code",
   "execution_count": 81,
   "id": "31fac10b",
   "metadata": {},
   "outputs": [
    {
     "data": {
      "text/plain": [
       "225"
      ]
     },
     "metadata": {},
     "output_type": "display_data"
    }
   ],
   "source": [
    "length (positionPermutations 5 5)"
   ]
  },
  {
   "cell_type": "markdown",
   "id": "cfa60386",
   "metadata": {},
   "source": [
    "Rectangles (TODO: ??????)"
   ]
  },
  {
   "cell_type": "code",
   "execution_count": 82,
   "id": "6a38c7f8",
   "metadata": {},
   "outputs": [],
   "source": [
    "rectangles :: Int -> Int -> [Rect]\n",
    "rectangles 1    rows = [(0, 1, y, h) | y <- [0..rows-1], h <- [1..rows-y]]\n",
    "rectangles cols rows =\n",
    "  [(0, w, y, h) | w <- [1..cols], y <- [0..rows-1], h <- [1..rows-y]] ++\n",
    "  [(x+1, w, y, h) | (x, w, y, h) <- rectangles (cols-1) rows]"
   ]
  },
  {
   "cell_type": "code",
   "execution_count": 83,
   "id": "fba14d31",
   "metadata": {},
   "outputs": [
    {
     "data": {
      "text/plain": [
       "[(0,1,0,1)]"
      ]
     },
     "metadata": {},
     "output_type": "display_data"
    }
   ],
   "source": [
    "rectangles 1 1"
   ]
  },
  {
   "cell_type": "code",
   "execution_count": 84,
   "id": "70032083",
   "metadata": {},
   "outputs": [
    {
     "data": {
      "text/plain": [
       "[(0,1,0,1),(0,1,0,2),(0,1,1,1)]"
      ]
     },
     "metadata": {},
     "output_type": "display_data"
    }
   ],
   "source": [
    "rectangles 1 2"
   ]
  },
  {
   "cell_type": "code",
   "execution_count": 85,
   "id": "0504f600",
   "metadata": {},
   "outputs": [
    {
     "data": {
      "text/plain": [
       "[(0,1,0,1)]"
      ]
     },
     "metadata": {},
     "output_type": "display_data"
    }
   ],
   "source": [
    "rectangles 1 1"
   ]
  },
  {
   "cell_type": "markdown",
   "id": "b7c0fde9",
   "metadata": {},
   "source": [
    "## Triangle Numbers\n"
   ]
  },
  {
   "cell_type": "markdown",
   "id": "580f9135",
   "metadata": {},
   "source": [
    "Is there a pattern in the number of rectangles that can fit in a grid?\n",
    "\n",
    "Can we see a pattern in a $(1 \\times 1)$, $(1 \\times 2)$, $\\dots$, $(1 \\times n)$?\n",
    "\n",
    "Let's take a look\n",
    "\n",
    "Note that we can write:\n",
    "\n",
    "```haskell\n",
    "map length (map (positionPermutations 1) [1..10])\n",
    "```\n",
    "\n",
    "as \n",
    "\n",
    "```haskell\n",
    "map (length . positionPermutations 1) [1..10]\n",
    "```"
   ]
  },
  {
   "cell_type": "code",
   "execution_count": 86,
   "id": "4867ffd8",
   "metadata": {},
   "outputs": [
    {
     "data": {
      "text/plain": [
       "[1,3,6,10,15,21,28,36,45,55]"
      ]
     },
     "metadata": {},
     "output_type": "display_data"
    }
   ],
   "source": [
    "map (length . positionPermutations 1) [1..10]"
   ]
  },
  {
   "cell_type": "markdown",
   "id": "8711f470",
   "metadata": {},
   "source": [
    "A mathematicican might recognise the start of a pattern of triangle numbers.\n",
    "\n",
    "To reitreate, a triangle number $T_n$ is the sum of all numbers between $1..n$, that is:"
   ]
  },
  {
   "cell_type": "code",
   "execution_count": 87,
   "id": "522b93ce",
   "metadata": {},
   "outputs": [],
   "source": [
    "triangleNumber :: Int -> Int\n",
    "triangleNumber 0 = 0\n",
    "triangleNumber i = i + triangleNumber (i - 1) "
   ]
  },
  {
   "cell_type": "code",
   "execution_count": 88,
   "id": "c8b2ed9b",
   "metadata": {},
   "outputs": [
    {
     "data": {
      "text/plain": [
       "[1,3,6,10,15,21,28,36,45,55]"
      ]
     },
     "metadata": {},
     "output_type": "display_data"
    }
   ],
   "source": [
    "map triangleNumber [1..10]"
   ]
  },
  {
   "cell_type": "markdown",
   "id": "a4314390",
   "metadata": {},
   "source": [
    "It would be reasonable to add another dimension, does our pattern still hold?"
   ]
  },
  {
   "cell_type": "code",
   "execution_count": 91,
   "id": "e081f39a",
   "metadata": {},
   "outputs": [
    {
     "data": {
      "text/plain": [
       "[1,3,6,3,9,18,6,18,36]"
      ]
     },
     "metadata": {},
     "output_type": "display_data"
    }
   ],
   "source": [
    "[length (positionPermutations i j) | i <- [1..3], j <- [1..3]]"
   ]
  },
  {
   "cell_type": "code",
   "execution_count": 92,
   "id": "5cbf820d",
   "metadata": {},
   "outputs": [
    {
     "data": {
      "text/plain": [
       "[1,3,6,3,9,18,6,18,36]"
      ]
     },
     "metadata": {},
     "output_type": "display_data"
    }
   ],
   "source": [
    "[triangleNumber i * triangleNumber j | i <- [1..3], j <- [1..3]]"
   ]
  },
  {
   "cell_type": "markdown",
   "id": "d38e7818",
   "metadata": {},
   "source": [
    "Feel free to play around with these values.\n",
    "\n",
    "So we believe we have found a pattern, but how do we prove it?"
   ]
  }
 ],
 "metadata": {
  "kernelspec": {
   "display_name": "Haskell",
   "language": "haskell",
   "name": "haskell"
  },
  "language_info": {
   "codemirror_mode": "ihaskell",
   "file_extension": ".hs",
   "mimetype": "text/x-haskell",
   "name": "haskell",
   "pygments_lexer": "Haskell",
   "version": "8.10.7"
  }
 },
 "nbformat": 4,
 "nbformat_minor": 5
}
