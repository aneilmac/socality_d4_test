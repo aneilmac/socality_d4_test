{
 "cells": [
  {
   "cell_type": "code",
   "execution_count": 1,
   "id": "aaa195a4",
   "metadata": {},
   "outputs": [],
   "source": [
    "type Rect = (Int, Int, Int, Int)"
   ]
  },
  {
   "cell_type": "code",
   "execution_count": 2,
   "id": "8633c6ff",
   "metadata": {},
   "outputs": [],
   "source": [
    "rectangles :: Int -> Int -> [Rect]\n",
    "rectangles 1    rows = [(0, 1, y, h) | y <- [0..rows-1], h <- [1..rows-y]]\n",
    "rectangles cols rows =\n",
    "  [(0, w, y, h) | w <- [1..cols], y <- [0..rows-1], h <- [1..rows-y]] ++\n",
    "  [(x+1, w, y, h) | (x, w, y, h) <- rectangles (cols-1) rows]"
   ]
  },
  {
   "cell_type": "code",
   "execution_count": 3,
   "id": "37d54f50",
   "metadata": {},
   "outputs": [
    {
     "data": {
      "text/plain": [
       "[(0,1,0,1)]"
      ]
     },
     "metadata": {},
     "output_type": "display_data"
    }
   ],
   "source": [
    "rectangles 1 1"
   ]
  },
  {
   "cell_type": "code",
   "execution_count": 4,
   "id": "ce38721a",
   "metadata": {},
   "outputs": [
    {
     "data": {
      "text/plain": [
       "[(0,1,0,1),(0,1,0,2),(0,1,1,1)]"
      ]
     },
     "metadata": {},
     "output_type": "display_data"
    }
   ],
   "source": [
    "rectangles 1 2"
   ]
  },
  {
   "cell_type": "code",
   "execution_count": 5,
   "id": "e66cf139",
   "metadata": {},
   "outputs": [],
   "source": [
    "triangle :: Int -> Int\n",
    "triangle 1 = 1\n",
    "triangle n = n + triangle (n-1)"
   ]
  },
  {
   "cell_type": "code",
   "execution_count": 6,
   "id": "723265c2",
   "metadata": {},
   "outputs": [],
   "source": [
    "numRectangles :: Int -> Int -> Int\n",
    "numRectangles 1    rows = triangle rows\n",
    "numRectangles cols rows = cols * triangle rows + numRectangles (cols-1) rows"
   ]
  },
  {
   "cell_type": "code",
   "execution_count": 7,
   "id": "8da3b626",
   "metadata": {},
   "outputs": [
    {
     "data": {
      "text/plain": [
       "[6,18,36,60,90]"
      ]
     },
     "metadata": {},
     "output_type": "display_data"
    }
   ],
   "source": [
    "print (map (numRectangles 3) [1..5])"
   ]
  },
  {
   "cell_type": "code",
   "execution_count": 8,
   "id": "56c28f7d",
   "metadata": {},
   "outputs": [
    {
     "data": {
      "text/plain": [
       "[6,18,36,60,90]"
      ]
     },
     "metadata": {},
     "output_type": "display_data"
    }
   ],
   "source": [
    "print (map (length . rectangles 3) [1..5])"
   ]
  }
 ],
 "metadata": {
  "kernelspec": {
   "display_name": "Haskell",
   "language": "haskell",
   "name": "haskell"
  },
  "language_info": {
   "codemirror_mode": "Haskell",
   "file_extension": ".hs",
   "mimetype": "text/x-haskell",
   "name": "haskell",
   "pygments_lexer": "Haskell",
   "version": "8.10.7"
  }
 },
 "nbformat": 4,
 "nbformat_minor": 5
}
