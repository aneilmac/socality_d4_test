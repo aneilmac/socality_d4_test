{
 "cells": [
  {
   "cell_type": "markdown",
   "id": "7f36bb84",
   "metadata": {},
   "source": [
    "![](http://localhost:8888/tree/images/sieve.PNG)"
   ]
  },
  {
   "cell_type": "code",
   "execution_count": 5,
   "id": "e78ced81",
   "metadata": {},
   "outputs": [],
   "source": [
    "-- Prime numbers example from chapter 15 of Programming in Haskell,\n",
    "-- Graham Hutton, Cambridge University Press, 2016.\n",
    "\n",
    "primes :: [Int]\n",
    "primes = sieve [2..]\n",
    "\n",
    "sieve :: [Int] -> [Int]\n",
    "sieve (p:xs) = p : sieve [x | x <- xs, x `mod` p /= 0]"
   ]
  },
  {
   "cell_type": "code",
   "execution_count": 6,
   "id": "2e2d1a12",
   "metadata": {},
   "outputs": [
    {
     "data": {
      "text/plain": [
       "[2,3,5,7,11,13,17,19,23,29]"
      ]
     },
     "metadata": {},
     "output_type": "display_data"
    }
   ],
   "source": [
    "take 10 primes"
   ]
  },
  {
   "cell_type": "code",
   "execution_count": 8,
   "id": "9a0c0f1a",
   "metadata": {},
   "outputs": [
    {
     "data": {
      "text/plain": [
       "[2,3,5,7,11,13,17,19]"
      ]
     },
     "metadata": {},
     "output_type": "display_data"
    }
   ],
   "source": [
    "takeWhile (<20) primes"
   ]
  },
  {
   "cell_type": "markdown",
   "id": "aaa23b03",
   "metadata": {},
   "source": [
    "![](http://localhost:8888/tree/images/sievePython.PNG)"
   ]
  }
 ],
 "metadata": {
  "kernelspec": {
   "display_name": "Haskell",
   "language": "haskell",
   "name": "haskell"
  },
  "language_info": {
   "codemirror_mode": "ihaskell",
   "file_extension": ".hs",
   "mimetype": "text/x-haskell",
   "name": "haskell",
   "pygments_lexer": "Haskell",
   "version": "8.10.7"
  }
 },
 "nbformat": 4,
 "nbformat_minor": 5
}
